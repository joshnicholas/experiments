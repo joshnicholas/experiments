{
 "cells": [
  {
   "cell_type": "code",
   "execution_count": 2,
   "metadata": {},
   "outputs": [
    {
     "name": "stdout",
     "output_type": "stream",
     "text": [
      " LEGO is a popular Danish brand of toys manufactured by The LEGO Group, a privately held company based in Billund, Denmark. The company was founded on August 10, 1932, by Ole Kirk Christiansen. Originally, the company produced wooden toys and sold them under the name \"LEGO Evangelium,\" with \"LEGO\" being an abbreviation of the Danish words \"leg godt,\" which mean \"play well.\"\n",
      "\n",
      "In 1947, Christiansen introduced a line of plastic toys called Automatic Binding Bricks. These interlocking bricks were an early version of what would become the classic LEGO brick. The first sets consisted of rectangular and square tiles, and later expanded to include various shapes and colors.\n",
      "\n",
      "In 1958, Godtfred Kirk Christiansen (Ole's son), introduced the iconic LEGO Minifigure, which was initially designed as a toy soldier. This addition opened new possibilities for creating detailed scenes and stories with LEGO sets.\n",
      "\n",
      "The 1960s and 1970s saw significant growth for The LEGO Group, with the introduction of various themes such as Town (1960), Space (1978), and Castle (1978). In 1965, the company adopted the Master Model Program, a systematic approach to design and production that ensured high-quality standards for its sets.\n",
      "\n",
      "Throughout the decades, LEGO has continued to evolve and innovate, introducing new themes such as Pirates (1989), Star Wars (1995), and Harry Potter (2001). The company also expanded its target demographic beyond children, with the introduction of LEGO Technic in 1977 for older builders and fans.\n",
      "\n",
      "In recent years, LEGO has focused on collaborations with various brands and intellectual properties, such as Batman, Marvel, Star Wars, and NASA, to create licensed sets. The company also released its first modular building, the Modular Buildings series, in 2007.\n",
      "\n",
      "Today, LEGO is a global brand known for its creativity, innovation, and high-quality toys. The company employs over 17,000 people worldwide and sells products in more than 130 countries. LEGO sets are cherished by generations of builders and collectors alike, inspiring imagination, problem-solving skills, and endless hours of fun.\n"
     ]
    }
   ],
   "source": [
    "from llama_index.legacy.llms import Ollama\n",
    "\n",
    "llm = Ollama(model=\"mistral\")\n",
    "\n",
    "response = llm.complete(\"What is the history of LEGO?\")\n",
    "print(response)"
   ]
  }
 ],
 "metadata": {
  "kernelspec": {
   "display_name": "bob",
   "language": "python",
   "name": "python3"
  },
  "language_info": {
   "codemirror_mode": {
    "name": "ipython",
    "version": 3
   },
   "file_extension": ".py",
   "mimetype": "text/x-python",
   "name": "python",
   "nbconvert_exporter": "python",
   "pygments_lexer": "ipython3",
   "version": "3.12.2"
  }
 },
 "nbformat": 4,
 "nbformat_minor": 2
}
