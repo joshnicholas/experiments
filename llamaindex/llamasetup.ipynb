{
 "cells": [
  {
   "cell_type": "code",
   "execution_count": 1,
   "metadata": {},
   "outputs": [
    {
     "data": {
      "text/plain": [
       "True"
      ]
     },
     "execution_count": 1,
     "metadata": {},
     "output_type": "execute_result"
    }
   ],
   "source": [
    "from llama_index.core import VectorStoreIndex, SimpleDirectoryReader, Settings\n",
    "from llama_index.core.embeddings import resolve_embed_model\n",
    "from llama_index.llms.ollama import Ollama\n",
    "\n",
    "\n",
    "from dotenv import load_dotenv\n",
    "load_dotenv()\n",
    "\n",
    "### Following this guide https://docs.llamaindex.ai/en/stable/getting_started/starter_example_local.html"
   ]
  },
  {
   "cell_type": "code",
   "execution_count": 3,
   "metadata": {},
   "outputs": [],
   "source": [
    "documents = SimpleDirectoryReader(\"data\").load_data()\n",
    "\n",
    "\n",
    "# bge-m3 embedding model\n",
    "Settings.embed_model = resolve_embed_model(\"local:BAAI/bge-small-en-v1.5\")\n",
    "Settings.llm = Ollama(model=\"mistral\", request_timeout=30.0)\n",
    "\n",
    "index = VectorStoreIndex.from_documents(\n",
    "    documents,\n",
    ")"
   ]
  },
  {
   "cell_type": "code",
   "execution_count": 7,
   "metadata": {},
   "outputs": [
    {
     "name": "stdout",
     "output_type": "stream",
     "text": [
      " The author grew up working on two main things outside of school: writing and programming. Before college, he wrote short stories and tried programming on an IBM 1401 computer using punch cards. However, he was puzzled by the machine and couldn't figure out what to do with it. With microcomputers, everything changed, as he could now have a computer sitting in front of him that responded to his keystrokes. He wrote simple programs on his father's TRS-80, which included games and a word processor. Despite his interest in programming, he planned to study philosophy in college due to its perceived power. However, he found philosophy courses boring and switched to Artificial Intelligence (AI) instead, inspired by a novel and a PBS documentary. He taught himself Lisp, the language of AI at the time, which expanded his concept of a program significantly. For his undergraduate thesis, he reverse-engineered SHRDLU, a program he believed was already climbing the lower slopes of intelligence. Eventually, he attended graduate school at Harvard to study AI further, but soon realized that the practice of AI at the time was not what he had expected and decided to focus on Lisp instead. He wrote a book about Lisp hacking during grad school, which was published in 1993. The author's childhood was marked by his curiosity, persistence, and adaptability as he explored various fields of interest and eventually found his passion in programming and AI."
     ]
    }
   ],
   "source": [
    "query_engine = index.as_query_engine(streaming=True,\n",
    "                                     llm=Ollama(model=\"mistral\", request_timeout=60.0))\n",
    "\n",
    "response = query_engine.query(\"What did the author do growing up?\")\n",
    "response.print_response_stream()"
   ]
  }
 ],
 "metadata": {
  "kernelspec": {
   "display_name": "Python 3",
   "language": "python",
   "name": "python3"
  },
  "language_info": {
   "codemirror_mode": {
    "name": "ipython",
    "version": 3
   },
   "file_extension": ".py",
   "mimetype": "text/x-python",
   "name": "python",
   "nbconvert_exporter": "python",
   "pygments_lexer": "ipython3",
   "version": "3.12.2"
  }
 },
 "nbformat": 4,
 "nbformat_minor": 2
}
