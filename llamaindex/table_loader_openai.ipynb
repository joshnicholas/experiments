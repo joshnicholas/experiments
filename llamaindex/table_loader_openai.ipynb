{
 "cells": [
  {
   "cell_type": "code",
   "execution_count": null,
   "metadata": {},
   "outputs": [],
   "source": [
    "from llama_hub.pdf_table import PDFTableReader\n",
    "from pathlib import Path\n",
    "\n",
    "reader = PDFTableReader()\n",
    "pdf_path = Path(\"/path/to/pdf\")\n",
    "documents = reader.load_data(file=pdf_path, pages=\"80-90\")"
   ]
  }
 ],
 "metadata": {
  "language_info": {
   "name": "python"
  }
 },
 "nbformat": 4,
 "nbformat_minor": 2
}
